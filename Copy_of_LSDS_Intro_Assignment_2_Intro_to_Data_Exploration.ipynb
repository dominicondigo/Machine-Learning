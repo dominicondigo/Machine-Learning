{
  "nbformat": 4,
  "nbformat_minor": 0,
  "metadata": {
    "colab": {
      "name": "Copy of LSDS Intro Assignment 2 - Intro to Data Exploration",
      "version": "0.3.2",
      "provenance": [],
      "include_colab_link": true
    },
    "kernelspec": {
      "name": "python3",
      "display_name": "Python 3"
    }
  },
  "cells": [
    {
      "cell_type": "markdown",
      "metadata": {
        "id": "view-in-github",
        "colab_type": "text"
      },
      "source": [
        "<a href=\"https://colab.research.google.com/github/dominicondigo/Machine-Learning/blob/master/Copy_of_LSDS_Intro_Assignment_2_Intro_to_Data_Exploration.ipynb\" target=\"_parent\"><img src=\"https://colab.research.google.com/assets/colab-badge.svg\" alt=\"Open In Colab\"/></a>"
      ]
    },
    {
      "metadata": {
        "id": "dJNVAHIX8XCi",
        "colab_type": "text"
      },
      "cell_type": "markdown",
      "source": [
        "## 1) Copy the notebook to your google account."
      ]
    },
    {
      "metadata": {
        "id": "ViAyRUAM8cMo",
        "colab_type": "text"
      },
      "cell_type": "markdown",
      "source": [
        "## 2) Import the pandas library and alias it as \"pd\"."
      ]
    },
    {
      "metadata": {
        "id": "Kd_nusDS98v7",
        "colab_type": "code",
        "colab": {}
      },
      "cell_type": "code",
      "source": [
        "import pandas as pd"
      ],
      "execution_count": 0,
      "outputs": []
    },
    {
      "metadata": {
        "id": "YjCgT50E8zPu",
        "colab_type": "text"
      },
      "cell_type": "markdown",
      "source": [
        "## 3) Read in the CSV dataset that is found at the following URL:\n",
        "[DATASET HERE](https://raw.githubusercontent.com/ryanleeallred/datasets/master/messy-data.csv)\n"
      ]
    },
    {
      "metadata": {
        "id": "HzEBd-hz99Ma",
        "colab_type": "code",
        "colab": {}
      },
      "cell_type": "code",
      "source": [
        "data=pd.read_csv('https://raw.githubusercontent.com/ryanleeallred/datasets/master/messy-data.csv')"
      ],
      "execution_count": 0,
      "outputs": []
    },
    {
      "metadata": {
        "id": "Mu1IYH3g9EF3",
        "colab_type": "text"
      },
      "cell_type": "markdown",
      "source": [
        "## 4) Print out the shape as well as the first 5 rows of the dataframe."
      ]
    },
    {
      "metadata": {
        "id": "ZLnVdtLW99vN",
        "colab_type": "code",
        "colab": {
          "base_uri": "https://localhost:8080/",
          "height": 204
        },
        "outputId": "166135d2-6e78-40bb-8a78-a94f80facd93"
      },
      "cell_type": "code",
      "source": [
        "data.shape# data shape\n",
        "\n",
        "data.head()#first five rows\n"
      ],
      "execution_count": 28,
      "outputs": [
        {
          "output_type": "execute_result",
          "data": {
            "text/html": [
              "<div>\n",
              "<style scoped>\n",
              "    .dataframe tbody tr th:only-of-type {\n",
              "        vertical-align: middle;\n",
              "    }\n",
              "\n",
              "    .dataframe tbody tr th {\n",
              "        vertical-align: top;\n",
              "    }\n",
              "\n",
              "    .dataframe thead th {\n",
              "        text-align: right;\n",
              "    }\n",
              "</style>\n",
              "<table border=\"1\" class=\"dataframe\">\n",
              "  <thead>\n",
              "    <tr style=\"text-align: right;\">\n",
              "      <th></th>\n",
              "      <th>alpha</th>\n",
              "      <th>beta</th>\n",
              "      <th>gamma</th>\n",
              "      <th>delta</th>\n",
              "      <th>epsilon</th>\n",
              "      <th>zeta</th>\n",
              "      <th>eta</th>\n",
              "    </tr>\n",
              "  </thead>\n",
              "  <tbody>\n",
              "    <tr>\n",
              "      <th>0</th>\n",
              "      <td>2</td>\n",
              "      <td>48</td>\n",
              "      <td>12</td>\n",
              "      <td>240</td>\n",
              "      <td>3.0</td>\n",
              "      <td>Yes</td>\n",
              "      <td>AZ</td>\n",
              "    </tr>\n",
              "    <tr>\n",
              "      <th>1</th>\n",
              "      <td>3</td>\n",
              "      <td>46</td>\n",
              "      <td>18</td>\n",
              "      <td>230</td>\n",
              "      <td>5.0</td>\n",
              "      <td>NaN</td>\n",
              "      <td>VT</td>\n",
              "    </tr>\n",
              "    <tr>\n",
              "      <th>2</th>\n",
              "      <td>4</td>\n",
              "      <td>44</td>\n",
              "      <td>24</td>\n",
              "      <td>220</td>\n",
              "      <td>7.0</td>\n",
              "      <td>No</td>\n",
              "      <td>PA</td>\n",
              "    </tr>\n",
              "    <tr>\n",
              "      <th>3</th>\n",
              "      <td>5</td>\n",
              "      <td>42</td>\n",
              "      <td>30</td>\n",
              "      <td>210</td>\n",
              "      <td>9.0</td>\n",
              "      <td>Yes</td>\n",
              "      <td>OK</td>\n",
              "    </tr>\n",
              "    <tr>\n",
              "      <th>4</th>\n",
              "      <td>6</td>\n",
              "      <td>44</td>\n",
              "      <td>36</td>\n",
              "      <td>220</td>\n",
              "      <td>11.0</td>\n",
              "      <td>Yes</td>\n",
              "      <td>MD</td>\n",
              "    </tr>\n",
              "  </tbody>\n",
              "</table>\n",
              "</div>"
            ],
            "text/plain": [
              "   alpha  beta  gamma  delta  epsilon zeta eta\n",
              "0      2    48     12    240      3.0  Yes  AZ\n",
              "1      3    46     18    230      5.0  NaN  VT\n",
              "2      4    44     24    220      7.0   No  PA\n",
              "3      5    42     30    210      9.0  Yes  OK\n",
              "4      6    44     36    220     11.0  Yes  MD"
            ]
          },
          "metadata": {
            "tags": []
          },
          "execution_count": 28
        }
      ]
    },
    {
      "metadata": {
        "id": "lQXA62rd9OWM",
        "colab_type": "text"
      },
      "cell_type": "markdown",
      "source": [
        "## 5) Print out the datatypes of the dataframe columns (dataset features)."
      ]
    },
    {
      "metadata": {
        "id": "5hPgdg0W9-1j",
        "colab_type": "code",
        "colab": {
          "base_uri": "https://localhost:8080/",
          "height": 153
        },
        "outputId": "a79c53a5-bbb7-43d4-fb07-28c7db512964"
      },
      "cell_type": "code",
      "source": [
        "\n",
        "data.dtypes#column datatypes"
      ],
      "execution_count": 29,
      "outputs": [
        {
          "output_type": "execute_result",
          "data": {
            "text/plain": [
              "alpha        int64\n",
              "beta         int64\n",
              "gamma        int64\n",
              "delta        int64\n",
              "epsilon    float64\n",
              "zeta        object\n",
              "eta         object\n",
              "dtype: object"
            ]
          },
          "metadata": {
            "tags": []
          },
          "execution_count": 29
        }
      ]
    },
    {
      "metadata": {
        "id": "WcMnUSW5fb9b",
        "colab_type": "text"
      },
      "cell_type": "markdown",
      "source": [
        "## 6) Print out the summary statistics of the numeric values of your dataset i.e. min, max, mean, standard deviation, etc."
      ]
    },
    {
      "metadata": {
        "id": "4Np346ECfn0i",
        "colab_type": "code",
        "colab": {
          "base_uri": "https://localhost:8080/",
          "height": 297
        },
        "outputId": "f5681e7f-732b-49b1-eb96-4ac6f337e99d"
      },
      "cell_type": "code",
      "source": [
        "data.describe()#summary statistics"
      ],
      "execution_count": 30,
      "outputs": [
        {
          "output_type": "execute_result",
          "data": {
            "text/html": [
              "<div>\n",
              "<style scoped>\n",
              "    .dataframe tbody tr th:only-of-type {\n",
              "        vertical-align: middle;\n",
              "    }\n",
              "\n",
              "    .dataframe tbody tr th {\n",
              "        vertical-align: top;\n",
              "    }\n",
              "\n",
              "    .dataframe thead th {\n",
              "        text-align: right;\n",
              "    }\n",
              "</style>\n",
              "<table border=\"1\" class=\"dataframe\">\n",
              "  <thead>\n",
              "    <tr style=\"text-align: right;\">\n",
              "      <th></th>\n",
              "      <th>alpha</th>\n",
              "      <th>beta</th>\n",
              "      <th>gamma</th>\n",
              "      <th>delta</th>\n",
              "      <th>epsilon</th>\n",
              "    </tr>\n",
              "  </thead>\n",
              "  <tbody>\n",
              "    <tr>\n",
              "      <th>count</th>\n",
              "      <td>165.000000</td>\n",
              "      <td>165.000000</td>\n",
              "      <td>165.000000</td>\n",
              "      <td>165.000000</td>\n",
              "      <td>141.000000</td>\n",
              "    </tr>\n",
              "    <tr>\n",
              "      <th>mean</th>\n",
              "      <td>46.169697</td>\n",
              "      <td>17.921212</td>\n",
              "      <td>277.018182</td>\n",
              "      <td>89.606061</td>\n",
              "      <td>164.794326</td>\n",
              "    </tr>\n",
              "    <tr>\n",
              "      <th>std</th>\n",
              "      <td>24.371521</td>\n",
              "      <td>17.769180</td>\n",
              "      <td>146.229125</td>\n",
              "      <td>88.845900</td>\n",
              "      <td>96.430843</td>\n",
              "    </tr>\n",
              "    <tr>\n",
              "      <th>min</th>\n",
              "      <td>2.000000</td>\n",
              "      <td>-11.000000</td>\n",
              "      <td>12.000000</td>\n",
              "      <td>-55.000000</td>\n",
              "      <td>3.000000</td>\n",
              "    </tr>\n",
              "    <tr>\n",
              "      <th>25%</th>\n",
              "      <td>28.000000</td>\n",
              "      <td>7.000000</td>\n",
              "      <td>168.000000</td>\n",
              "      <td>35.000000</td>\n",
              "      <td>83.000000</td>\n",
              "    </tr>\n",
              "    <tr>\n",
              "      <th>50%</th>\n",
              "      <td>44.000000</td>\n",
              "      <td>15.000000</td>\n",
              "      <td>264.000000</td>\n",
              "      <td>75.000000</td>\n",
              "      <td>163.000000</td>\n",
              "    </tr>\n",
              "    <tr>\n",
              "      <th>75%</th>\n",
              "      <td>65.000000</td>\n",
              "      <td>32.000000</td>\n",
              "      <td>390.000000</td>\n",
              "      <td>160.000000</td>\n",
              "      <td>247.000000</td>\n",
              "    </tr>\n",
              "    <tr>\n",
              "      <th>max</th>\n",
              "      <td>85.000000</td>\n",
              "      <td>50.000000</td>\n",
              "      <td>510.000000</td>\n",
              "      <td>250.000000</td>\n",
              "      <td>331.000000</td>\n",
              "    </tr>\n",
              "  </tbody>\n",
              "</table>\n",
              "</div>"
            ],
            "text/plain": [
              "            alpha        beta       gamma       delta     epsilon\n",
              "count  165.000000  165.000000  165.000000  165.000000  141.000000\n",
              "mean    46.169697   17.921212  277.018182   89.606061  164.794326\n",
              "std     24.371521   17.769180  146.229125   88.845900   96.430843\n",
              "min      2.000000  -11.000000   12.000000  -55.000000    3.000000\n",
              "25%     28.000000    7.000000  168.000000   35.000000   83.000000\n",
              "50%     44.000000   15.000000  264.000000   75.000000  163.000000\n",
              "75%     65.000000   32.000000  390.000000  160.000000  247.000000\n",
              "max     85.000000   50.000000  510.000000  250.000000  331.000000"
            ]
          },
          "metadata": {
            "tags": []
          },
          "execution_count": 30
        }
      ]
    },
    {
      "metadata": {
        "id": "m2KFAh6T97-t",
        "colab_type": "text"
      },
      "cell_type": "markdown",
      "source": [
        "## 6) Clean all NaN values from the dataset.\n",
        "\n",
        "Feel free to add code cells as needed."
      ]
    },
    {
      "metadata": {
        "id": "9fkfvv5ELfuE",
        "colab_type": "code",
        "colab": {
          "base_uri": "https://localhost:8080/",
          "height": 68
        },
        "outputId": "f1d1b630-1bba-4714-92f4-9a940f85afbb"
      },
      "cell_type": "code",
      "source": [
        "# get the number of missing data points per column\n",
        "missing_values_count = data.isnull().sum()\n",
        "# look at the # of missing points in the first ten columns\n",
        "missing_values_count[0:10]\n",
        "# remove all the rows that contain a missing value\n",
        "data.dropna()\n",
        "# remove all columns with at least one missing value\n",
        "columns_with_na_dropped = data.dropna(axis=1)\n",
        "columns_with_na_dropped.head()\n",
        "# just how much data did we lose?\n",
        "print(\"Columns in original dataset: %d \\n\" % data.shape[1])\n",
        "print(\"Columns with na's dropped: %d\" % columns_with_na_dropped.shape[1])\n"
      ],
      "execution_count": 31,
      "outputs": [
        {
          "output_type": "stream",
          "text": [
            "Columns in original dataset: 7 \n",
            "\n",
            "Columns with na's dropped: 5\n"
          ],
          "name": "stdout"
        }
      ]
    },
    {
      "metadata": {
        "id": "wP7BDqcwLauI",
        "colab_type": "text"
      },
      "cell_type": "markdown",
      "source": [
        "## 6.1) Describe how you addressed the NaN values and give an explanation justifying your decision."
      ]
    },
    {
      "metadata": {
        "id": "WMyNKMBa-Vsb",
        "colab_type": "code",
        "colab": {}
      },
      "cell_type": "code",
      "source": [
        "# You first check the sum of containing NAN values\n",
        "#Drop all the rows Columns with Missing Values"
      ],
      "execution_count": 0,
      "outputs": []
    },
    {
      "metadata": {
        "id": "ln9-44Jg-V6d",
        "colab_type": "text"
      },
      "cell_type": "markdown",
      "source": [
        "## 7) Create scatter plots using Matplotlib. Can you find any interesting relationships in the data? Be sure to label your axis and to give your graphs a title.\n",
        "\n",
        "Screenshot cool graphs that you create and share them with the slack channel. \n",
        "\n",
        "Don't forget to import matplotlib before trying to use it."
      ]
    },
    {
      "metadata": {
        "id": "eeJwN6OBLUyv",
        "colab_type": "code",
        "colab": {
          "base_uri": "https://localhost:8080/",
          "height": 361
        },
        "outputId": "3ebd712f-f06a-4d0b-9d0a-7ebe60f73144"
      },
      "cell_type": "code",
      "source": [
        "import matplotlib.pyplot as plt\n",
        "plt.scatter(data.alpha, data.beta,  color='blue')\n",
        "plt.xlabel(\"alfa\")\n",
        "plt.ylabel(\"beta\")\n",
        "plt.show()"
      ],
      "execution_count": 34,
      "outputs": [
        {
          "output_type": "display_data",
          "data": {
            "image/png": "[encoded data removed]",
            "text/plain": [
              "<matplotlib.figure.Figure at 0x7fa2b386de10>"
            ]
          },
          "metadata": {
            "tags": []
          }
        }
      ]
    },
    {
      "metadata": {
        "id": "yo4YDnjpmdAj",
        "colab_type": "text"
      },
      "cell_type": "markdown",
      "source": [
        "## 8) STRETCH GOAL (Extra Credit)\n",
        "\n",
        "Machine Learning algorithms don't do well with categorical values that are represented by strings. In order to have this dataset completely cleaned we need to transform the categorical variables that are represented as strings into numeric categorical variables\n",
        "\n",
        "- **Turn all categorical features (columns) into numeric features**\n",
        "\n",
        "Hints:\n",
        "\n",
        "[Scikit-Learn One-Hot-Encoder](http://scikit-learn.org/stable/modules/generated/sklearn.preprocessing.OneHotEncoder.html)\n",
        "\n",
        "[Pandas Docs - Working with Categorical Data](https://pandas.pydata.org/pandas-docs/stable/categorical.html)\n",
        "\n",
        "[Guide to Encoding Categorical Variables in Python](http://pbpython.com/categorical-encoding.html)"
      ]
    },
    {
      "metadata": {
        "id": "_uUl2bI9opOz",
        "colab_type": "code",
        "colab": {}
      },
      "cell_type": "code",
      "source": [
        ""
      ],
      "execution_count": 0,
      "outputs": []
    }
  ]
}